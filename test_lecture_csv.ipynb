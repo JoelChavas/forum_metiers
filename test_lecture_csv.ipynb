{
 "cells": [
  {
   "cell_type": "code",
   "execution_count": 1,
   "metadata": {},
   "outputs": [],
   "source": [
    "import pandas as pd"
   ]
  },
  {
   "cell_type": "code",
   "execution_count": 5,
   "metadata": {
    "scrolled": true
   },
   "outputs": [],
   "source": [
    "eleves = pd.read_csv('eleve_2022.csv')"
   ]
  },
  {
   "cell_type": "code",
   "execution_count": 10,
   "metadata": {
    "scrolled": true
   },
   "outputs": [
    {
     "data": {
      "text/html": [
       "<div>\n",
       "<style scoped>\n",
       "    .dataframe tbody tr th:only-of-type {\n",
       "        vertical-align: middle;\n",
       "    }\n",
       "\n",
       "    .dataframe tbody tr th {\n",
       "        vertical-align: top;\n",
       "    }\n",
       "\n",
       "    .dataframe thead th {\n",
       "        text-align: right;\n",
       "    }\n",
       "</style>\n",
       "<table border=\"1\" class=\"dataframe\">\n",
       "  <thead>\n",
       "    <tr style=\"text-align: right;\">\n",
       "      <th></th>\n",
       "      <th>Classe</th>\n",
       "      <th>Destinataires</th>\n",
       "      <th>Entretien 1</th>\n",
       "      <th>Entretien 2</th>\n",
       "      <th>Entretien 3</th>\n",
       "    </tr>\n",
       "  </thead>\n",
       "  <tbody>\n",
       "    <tr>\n",
       "      <th>0</th>\n",
       "      <td>301</td>\n",
       "      <td>ALVES COSTA Diego</td>\n",
       "      <td>Metiers de l'automobile</td>\n",
       "      <td>Metiers de l'entreprise</td>\n",
       "      <td>Metiers scientifiques</td>\n",
       "    </tr>\n",
       "    <tr>\n",
       "      <th>1</th>\n",
       "      <td>301</td>\n",
       "      <td>ARGUENON Lilian</td>\n",
       "      <td>Metiers de l'alimentation</td>\n",
       "      <td>Metiers de l'automobile</td>\n",
       "      <td>Metiers du commerce</td>\n",
       "    </tr>\n",
       "    <tr>\n",
       "      <th>2</th>\n",
       "      <td>301</td>\n",
       "      <td>BERNASCONI Luka</td>\n",
       "      <td>Metiers de l'automobile</td>\n",
       "      <td>Metiers scientifiques</td>\n",
       "      <td>Metiers de l'informatique</td>\n",
       "    </tr>\n",
       "    <tr>\n",
       "      <th>3</th>\n",
       "      <td>301</td>\n",
       "      <td>BORGARD Thomas</td>\n",
       "      <td>Metiers de l'entreprise</td>\n",
       "      <td>Metiers scientifiques</td>\n",
       "      <td>Metiers de l'informatique</td>\n",
       "    </tr>\n",
       "    <tr>\n",
       "      <th>4</th>\n",
       "      <td>301</td>\n",
       "      <td>BRAULT Leo</td>\n",
       "      <td>Metiers de l'enseignement</td>\n",
       "      <td>Metiers scientifiques</td>\n",
       "      <td>Metiers de la communication</td>\n",
       "    </tr>\n",
       "  </tbody>\n",
       "</table>\n",
       "</div>"
      ],
      "text/plain": [
       "   Classe      Destinataires                Entretien 1  \\\n",
       "0     301  ALVES COSTA Diego    Metiers de l'automobile   \n",
       "1     301    ARGUENON Lilian  Metiers de l'alimentation   \n",
       "2     301    BERNASCONI Luka    Metiers de l'automobile   \n",
       "3     301     BORGARD Thomas    Metiers de l'entreprise   \n",
       "4     301         BRAULT Leo  Metiers de l'enseignement   \n",
       "\n",
       "               Entretien 2                  Entretien 3  \n",
       "0  Metiers de l'entreprise        Metiers scientifiques  \n",
       "1  Metiers de l'automobile          Metiers du commerce  \n",
       "2    Metiers scientifiques    Metiers de l'informatique  \n",
       "3    Metiers scientifiques    Metiers de l'informatique  \n",
       "4    Metiers scientifiques  Metiers de la communication  "
      ]
     },
     "execution_count": 10,
     "metadata": {},
     "output_type": "execute_result"
    }
   ],
   "source": [
    "eleves.head()"
   ]
  },
  {
   "cell_type": "code",
   "execution_count": 11,
   "metadata": {},
   "outputs": [],
   "source": [
    "parents = pd.read_csv('parent_2022.csv')"
   ]
  },
  {
   "cell_type": "code",
   "execution_count": 12,
   "metadata": {},
   "outputs": [
    {
     "data": {
      "text/html": [
       "<div>\n",
       "<style scoped>\n",
       "    .dataframe tbody tr th:only-of-type {\n",
       "        vertical-align: middle;\n",
       "    }\n",
       "\n",
       "    .dataframe tbody tr th {\n",
       "        vertical-align: top;\n",
       "    }\n",
       "\n",
       "    .dataframe thead th {\n",
       "        text-align: right;\n",
       "    }\n",
       "</style>\n",
       "<table border=\"1\" class=\"dataframe\">\n",
       "  <thead>\n",
       "    <tr style=\"text-align: right;\">\n",
       "      <th></th>\n",
       "      <th>Unnamed: 0</th>\n",
       "      <th>Domaine</th>\n",
       "      <th>Intervenant</th>\n",
       "      <th>Unnamed: 3</th>\n",
       "    </tr>\n",
       "  </thead>\n",
       "  <tbody>\n",
       "    <tr>\n",
       "      <th>0</th>\n",
       "      <td>NaN</td>\n",
       "      <td>Chef d’entreprise</td>\n",
       "      <td>BARRE Barbara</td>\n",
       "      <td>NaN</td>\n",
       "    </tr>\n",
       "    <tr>\n",
       "      <th>1</th>\n",
       "      <td>NaN</td>\n",
       "      <td>Chef d’entreprise</td>\n",
       "      <td>BALLOT Jean-Clair</td>\n",
       "      <td>NaN</td>\n",
       "    </tr>\n",
       "    <tr>\n",
       "      <th>2</th>\n",
       "      <td>NaN</td>\n",
       "      <td>Metiers Banque et Finance</td>\n",
       "      <td>DUBOIS Andrea</td>\n",
       "      <td>NaN</td>\n",
       "    </tr>\n",
       "    <tr>\n",
       "      <th>3</th>\n",
       "      <td>NaN</td>\n",
       "      <td>Metiers Banque et Finance</td>\n",
       "      <td>RAZANAJAO Miharintsoa</td>\n",
       "      <td>NaN</td>\n",
       "    </tr>\n",
       "    <tr>\n",
       "      <th>4</th>\n",
       "      <td>NaN</td>\n",
       "      <td>Metiers Banque et Finance</td>\n",
       "      <td>CHARLET Vincent</td>\n",
       "      <td>NaN</td>\n",
       "    </tr>\n",
       "  </tbody>\n",
       "</table>\n",
       "</div>"
      ],
      "text/plain": [
       "   Unnamed: 0                    Domaine            Intervenant Unnamed: 3\n",
       "0         NaN          Chef d’entreprise          BARRE Barbara        NaN\n",
       "1         NaN          Chef d’entreprise      BALLOT Jean-Clair        NaN\n",
       "2         NaN  Metiers Banque et Finance          DUBOIS Andrea        NaN\n",
       "3         NaN  Metiers Banque et Finance  RAZANAJAO Miharintsoa        NaN\n",
       "4         NaN  Metiers Banque et Finance        CHARLET Vincent        NaN"
      ]
     },
     "execution_count": 12,
     "metadata": {},
     "output_type": "execute_result"
    }
   ],
   "source": [
    "parents.head()"
   ]
  },
  {
   "cell_type": "code",
   "execution_count": null,
   "metadata": {},
   "outputs": [],
   "source": []
  }
 ],
 "metadata": {
  "kernelspec": {
   "display_name": "Python 3",
   "language": "python",
   "name": "python3"
  },
  "language_info": {
   "codemirror_mode": {
    "name": "ipython",
    "version": 3
   },
   "file_extension": ".py",
   "mimetype": "text/x-python",
   "name": "python",
   "nbconvert_exporter": "python",
   "pygments_lexer": "ipython3",
   "version": "3.8.5"
  }
 },
 "nbformat": 4,
 "nbformat_minor": 4
}
